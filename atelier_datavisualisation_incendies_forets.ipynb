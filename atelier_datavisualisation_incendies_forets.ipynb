{
 "cells": [
  {
   "cell_type": "markdown",
   "id": "4eb1b04f",
   "metadata": {},
   "source": [
    "# Visualisation de données géospatiales\n",
    "\n",
    "## Bonnes pratiques appliquées aux feux de forêts\n",
    "\n",
    "L'objectif de cet atelier est de pratiquer la datavisualisation en Python avec la librairie **plotly.express** en utilisant les jeux de données disponibles sur les incendies de forêts ainsi que l'indice d'humidité des sols.\n",
    "\n",
    "**Francis Wolinski**\n",
    "\n",
    "Consultant scientifique indépendant depuis 2013, bénéficiaire du programme résidentiel de **datacraft**\n",
    "- Audit, Conseil et Projets en Data Science\n",
    "- Formations professionnelles et enseignement de Python au niveau Master\n",
    "\n",
    "Septembre 2022"
   ]
  },
  {
   "cell_type": "code",
   "execution_count": null,
   "id": "f0400ecd",
   "metadata": {},
   "outputs": [],
   "source": [
    "# imports\n",
    "import glob\n",
    "\n",
    "import numpy as np\n",
    "import pandas as pd\n",
    "\n",
    "import plotly.express as px"
   ]
  },
  {
   "cell_type": "markdown",
   "id": "20b57907",
   "metadata": {},
   "source": [
    "## 1. Jeux de données sur les incendies\n",
    "\n",
    "### 1.1 BDIFF\n",
    "\n",
    "**Base de Données sur les Incendies de Forêts en France**\n",
    "\n",
    "> La base de données sur les incendies de forêt (BDIFF) est une application internet chargée de centraliser l'ensemble des données sur les incendies de forêt sur le territoire français depuis 2006 et de mettre l'ensemble de cette information à disposition du public et des services de l'Etat.\n",
    ">\n",
    "> L'application permet, à tout utilisateur intéressé, de consulter des données nationales, sur les feux de forêt jusqu'à l'année antérieure à l’année en cours et ce, agrégées à la commune.\n",
    "\n",
    "https://bdiff.agriculture.gouv.fr/"
   ]
  },
  {
   "cell_type": "code",
   "execution_count": null,
   "id": "91bef571",
   "metadata": {},
   "outputs": [],
   "source": [
    "# load bdiff\n",
    "bdiff = pd.read_csv(\"data/export_BDIFF_incendies_20220823.csv\",\n",
    "                    header=5,\n",
    "                    sep=\";\")\n",
    "bdiff.shape"
   ]
  },
  {
   "cell_type": "code",
   "execution_count": null,
   "id": "46a42667",
   "metadata": {},
   "outputs": [],
   "source": [
    "bdiff.head()"
   ]
  },
  {
   "cell_type": "code",
   "execution_count": null,
   "id": "7dc1d24c",
   "metadata": {},
   "outputs": [],
   "source": [
    "# années\n",
    "bdiff[\"Année\"].unique()"
   ]
  },
  {
   "cell_type": "code",
   "execution_count": null,
   "id": "bf7e1ab3",
   "metadata": {},
   "outputs": [],
   "source": [
    "# départements\n",
    "bdiff[\"Département\"].unique()"
   ]
  },
  {
   "cell_type": "markdown",
   "id": "3281ba64",
   "metadata": {},
   "source": [
    "### 1.2 Prométhée\n",
    "\n",
    "**La banque de données sur les incendies de forêts en région Méditerranéenne en France**"
   ]
  },
  {
   "cell_type": "code",
   "execution_count": null,
   "id": "06f2437b",
   "metadata": {},
   "outputs": [],
   "source": [
    "# https://www.promethee.com/incendies\n",
    "promethee = pd.read_csv(\"data/liste_incendies_du_23_08_2022.csv\",\n",
    "                        header=2,\n",
    "                        sep=\";\")\n",
    "promethee.shape"
   ]
  },
  {
   "cell_type": "code",
   "execution_count": null,
   "id": "e4881763",
   "metadata": {},
   "outputs": [],
   "source": [
    "promethee.head()"
   ]
  },
  {
   "cell_type": "code",
   "execution_count": null,
   "id": "9783c62a",
   "metadata": {},
   "outputs": [],
   "source": [
    "# années\n",
    "promethee[\"Année\"].unique()"
   ]
  },
  {
   "cell_type": "code",
   "execution_count": null,
   "id": "19a9042b",
   "metadata": {},
   "outputs": [],
   "source": [
    "# départements\n",
    "promethee[\"Département\"].unique()"
   ]
  },
  {
   "cell_type": "markdown",
   "id": "137ab872",
   "metadata": {},
   "source": [
    "### 1.3 Comparaison\n",
    "\n",
    "- Nombre d'enregistrements dans BDIFF correspondants à la zone de Prométhée\n",
    "- Nombre d'enregistrements dans Prométhée correspondants à la période de BDIFF"
   ]
  },
  {
   "cell_type": "code",
   "execution_count": null,
   "id": "9d6c6302",
   "metadata": {},
   "outputs": [],
   "source": [
    "# nombre d'enregistrements dans BDIFF correspondants à la zone de Prométhée\n",
    "len(bdiff.loc[bdiff[\"Département\"].isin(promethee[\"Département\"].unique())])"
   ]
  },
  {
   "cell_type": "code",
   "execution_count": null,
   "id": "244e2898",
   "metadata": {},
   "outputs": [],
   "source": [
    "# nombre d'enregistrements dans Prométhée correspondants à la période de BDIFF\n",
    "len(promethee.loc[promethee[\"Année\"].isin(bdiff[\"Année\"].unique())])"
   ]
  },
  {
   "cell_type": "markdown",
   "id": "d106b050",
   "metadata": {},
   "source": [
    "## 2. Visualisations non cartographiques\n",
    "\n",
    "### 2.1 Nombre d'incendies par an\n",
    "\n",
    "**Pour BDIFF**\n",
    "\n",
    "On affiche le nombre d'incendies par an avec la fonction `px.bar()`."
   ]
  },
  {
   "cell_type": "code",
   "execution_count": null,
   "id": "97b412f4",
   "metadata": {},
   "outputs": [],
   "source": [
    "# %load exos/exo_01.py"
   ]
  },
  {
   "cell_type": "markdown",
   "id": "ddf22d13",
   "metadata": {},
   "source": [
    "**Pour BDIFF et Prométhée**\n",
    "\n",
    "On construit un dataframe aligné avec les données des 2 bases et on affiche en côte à côte le nombre d'incendies par an toujours avec la fonction `px.bar()`."
   ]
  },
  {
   "cell_type": "code",
   "execution_count": null,
   "id": "0c2aa288",
   "metadata": {},
   "outputs": [],
   "source": [
    "# %load exos/exo_02.py"
   ]
  },
  {
   "cell_type": "markdown",
   "id": "b60da837",
   "metadata": {},
   "source": [
    "### 2.2 Surface brûlée par an\n",
    "\n",
    "On crée une colonne dans chaque dataframe avec les surfaces en *ha*."
   ]
  },
  {
   "cell_type": "code",
   "execution_count": null,
   "id": "f0af3560",
   "metadata": {},
   "outputs": [],
   "source": [
    "# on passe les m2 en ha\n",
    "bdiff[\"Surface brûlée (ha)\"] = bdiff[\"Surface brûlée (m2)\"]/10000\n",
    "promethee[\"Surface parcourue (ha)\"] = promethee[\"Surface parcourue (m2)\"]/10000"
   ]
  },
  {
   "cell_type": "markdown",
   "id": "04227b37",
   "metadata": {},
   "source": [
    "**Pour BDIFF**\n",
    "\n",
    "On affiche la surface brûlée en *ha* par an et la moyenne avec `px.bar()` et la méthode `add_hline()`."
   ]
  },
  {
   "cell_type": "code",
   "execution_count": null,
   "id": "a767f752",
   "metadata": {},
   "outputs": [],
   "source": [
    "# %load exos/exo_03.py"
   ]
  },
  {
   "cell_type": "markdown",
   "id": "151f01cf",
   "metadata": {},
   "source": [
    "On affiche les surfaces brûlées par an et la limite des mégafeux (1000 *ha* en Europe) avec la fonction `px.strip()` et la méthode `add_hline()`."
   ]
  },
  {
   "cell_type": "code",
   "execution_count": null,
   "id": "db9dbd8b",
   "metadata": {},
   "outputs": [],
   "source": [
    "# %load exos/exo_04.py"
   ]
  },
  {
   "cell_type": "markdown",
   "id": "de39ca25",
   "metadata": {},
   "source": [
    "**Pour BDIFF et Prométhée**\n",
    "\n",
    "On divise les données de surface brûlée de la base \"Prométhée\" par celle de \"BDIFF\" et on affiche le % correspondant à la surface brûlée en Méditerrannée par rapport à l'ensemble de la France avec la fontion `px.bar()` et la méthode `update_layout()` pour modifier le format de l'axe des Y."
   ]
  },
  {
   "cell_type": "code",
   "execution_count": null,
   "id": "7ba8d583",
   "metadata": {},
   "outputs": [],
   "source": [
    "# %load exos/exo_05.py"
   ]
  },
  {
   "cell_type": "markdown",
   "id": "ebc6b3a3",
   "metadata": {},
   "source": [
    "**Pour BDIFF**\n",
    "\n",
    "On affiche une carte proportionnelle *TreeMap* avec la surface brûlée par année, par département puis par commune avec la fonction `tree_map()`. Pourles communes, on prendra soin de les limiter aux 10 plus grands incendies par exemple."
   ]
  },
  {
   "cell_type": "code",
   "execution_count": null,
   "id": "52c10c23",
   "metadata": {},
   "outputs": [],
   "source": [
    "# %load exos/exo_06.py"
   ]
  },
  {
   "cell_type": "markdown",
   "id": "77287964",
   "metadata": {},
   "source": [
    "## 3. Cartes sur les incendies de forêts\n",
    "\n",
    "### 3.1 Cartes choroplèthes\n",
    "\n",
    "Une carte *choroplèthe* (du grec χῶρος  : « zone/région » et πλῆθος  : « grand nombre, multitude ») est une carte thématique où les régions sont colorées ou remplies d'un motif qui montre une mesure statistique.\n",
    "\n",
    "Pour produire une carte choroplèthe, il faut récupérer un fichier *geojson* de la partie du monde considérée. Ce fichier contient entre autres 2 informations importantes :\n",
    "- Une clé qui désigne chaque sous-région,\n",
    "- La description d'un polygone ou d'un multi-polygones sous la forme d'une liste de coordonnées (latitudes et longitudes),\n",
    "\n",
    "Il faut ensuite faire correspondre les valeurs de la colonne du DataFrame qui contient les données relatives à chaque sous-région avec celles de la clé du fichier *geojson*.\n",
    "\n",
    "Il est possible ensuite d'utiliser différents fonds de cartes et différents nuanciers."
   ]
  },
  {
   "cell_type": "markdown",
   "id": "b6074640",
   "metadata": {},
   "source": [
    "**Fichier geojson**\n",
    "\n",
    "Le fichier \"./data/departements.geojson\" utilisé ci-après provient du site : https://france-geojson.gregoiredavid.fr/ et il faut analyser le fichier pour trouver la clé correspondant à chaque sous-région."
   ]
  },
  {
   "cell_type": "code",
   "execution_count": null,
   "id": "83a2b1ef",
   "metadata": {},
   "outputs": [],
   "source": [
    "import json\n",
    "\n",
    "with open(\"./data/departements.geojson\") as f:\n",
    "    departements = json.loads(f.read())"
   ]
  },
  {
   "cell_type": "markdown",
   "id": "4e356d89",
   "metadata": {},
   "source": [
    "Analyse du fichier geojson :\n",
    "- `departements[\"features\"]` est une liste de 96 dictionnaires (les différents départements avec '2A' et '2B')\n",
    "- chaque dictionnaire contient les clés :\n",
    "    - 'type': 'Feature'\n",
    "    - 'geometry': informations géométriques (polygones...)\n",
    "    - 'properties' : informations d'identification qui permettent de référencer chaque dictionnaire"
   ]
  },
  {
   "cell_type": "code",
   "execution_count": null,
   "id": "2c5881e2",
   "metadata": {},
   "outputs": [],
   "source": [
    "# liste des valeurs de la clé \"code\"\n",
    "codes = sorted([f[\"properties\"][\"code\"] for f in departements[\"features\"]])\n",
    "print(*codes)"
   ]
  },
  {
   "cell_type": "markdown",
   "id": "aef89ae5",
   "metadata": {},
   "source": [
    "### 3.2 Carte du nombre d'incendies par année\n",
    "\n",
    "On calcule le nombre d'incendies par année et par département et on affiche une carte avec la fonction `px.choropleth_mapbox()`."
   ]
  },
  {
   "cell_type": "code",
   "execution_count": null,
   "id": "8d59ca0f",
   "metadata": {},
   "outputs": [],
   "source": [
    "data1 = (bdiff.groupby([\"Année\", \"Département\"])\n",
    "         .size()\n",
    "         .reset_index()\n",
    "         .rename(columns={0:\"Nombre d'incendies\"})\n",
    "        )\n",
    "\n",
    "data1.head()"
   ]
  },
  {
   "cell_type": "code",
   "execution_count": null,
   "id": "ea6f3020",
   "metadata": {},
   "outputs": [],
   "source": [
    "def display_year1(year):\n",
    "    # select year\n",
    "    df = data1.loc[data1[\"Année\"]==year]\n",
    "    \n",
    "    # choropleth_mapbox\n",
    "    return px.choropleth_mapbox(data_frame=df,\n",
    "                                geojson=departements,\n",
    "                                locations='Département',\n",
    "                                color=\"Nombre d'incendies\",\n",
    "                                featureidkey='properties.code',\n",
    "                                color_continuous_scale=\"RdYlGn_r\",\n",
    "                                mapbox_style=\"carto-positron\",\n",
    "                                zoom=4,\n",
    "                                center={\"lat\": 47.0, \"lon\": 3.0},\n",
    "                                opacity=0.5,\n",
    "                                labels={\"Nombre d'incendies\": f\"Nombre d'incendies en {year}\"},\n",
    "                                width=700)\n",
    "    \n",
    "fig = display_year1(2006)\n",
    "fig"
   ]
  },
  {
   "cell_type": "markdown",
   "id": "0ee6c3d0",
   "metadata": {},
   "source": [
    "La carte est incomplète. Il faut rajouter dans \"data1\" les labels de l'ensemble des départements avec la méthode `reindex()` et en mettant les valeurs à *0*."
   ]
  },
  {
   "cell_type": "code",
   "execution_count": null,
   "id": "c0fcc9f9",
   "metadata": {},
   "outputs": [],
   "source": [
    "# %load exos/exo_07.py"
   ]
  },
  {
   "cell_type": "markdown",
   "id": "607075a0",
   "metadata": {},
   "source": [
    "Exemple en utilisant les interactions apportées par la librairie **ipywidgets**."
   ]
  },
  {
   "cell_type": "code",
   "execution_count": null,
   "id": "1c10fd9a",
   "metadata": {},
   "outputs": [],
   "source": [
    "from ipywidgets import interact, widgets\n",
    "\n",
    "interact(display_year1, year=widgets.IntSlider(min=2006, max=2021, step=1, value=2006));"
   ]
  },
  {
   "cell_type": "markdown",
   "id": "da018da7",
   "metadata": {},
   "source": [
    "Les échelles obtenues sont spécifiques à chacune des années. Si l'on souhaite féfinir une échelle absolue, il faut passer par la librairie plus complète **plotly.graph_objects** qui définit la classe `Choroplethmapbox` avec les attributs \"zmin\" et \"zmax\".\n",
    "\n",
    "Les informations affichées via **plotly.express** doivent alors être spécifiées manuellement... On voit bien comment `plotly.express` simplifie la production de graphiques en unifiant les arguments de `plotly.graph_objects.Choroplethmapbox` et de la méthode `update_layout()`."
   ]
  },
  {
   "cell_type": "code",
   "execution_count": null,
   "id": "e78ea35b",
   "metadata": {},
   "outputs": [],
   "source": [
    "import plotly.graph_objects as go\n",
    "\n",
    "def display_year1(year):\n",
    "    # select year and add all labels\n",
    "    df = (data1.loc[data1[\"Année\"]==year]\n",
    "          .set_index(\"Département\")\n",
    "          .reindex(codes)\n",
    "          .fillna(0)\n",
    "          .reset_index()\n",
    "         )\n",
    "    \n",
    "    # choropleth_mapbox\n",
    "    fig = go.Figure(go.Choroplethmapbox(geojson=departements,\n",
    "                                        locations=df['Département'],\n",
    "                                        text=df['Département'],\n",
    "                                        z=df[\"Nombre d'incendies\"],\n",
    "                                        featureidkey='properties.code',\n",
    "                                        colorscale=\"RdYlGn_r\",\n",
    "                                        zmin=data1[\"Nombre d'incendies\"].min(),\n",
    "                                        zmax=data1[\"Nombre d'incendies\"].max(),\n",
    "                                        marker_opacity=0.5,\n",
    "                                        ))\n",
    "    fig.update_layout(mapbox_style=\"carto-positron\",\n",
    "                      mapbox_zoom=4,\n",
    "                      mapbox_center={\"lat\": 47.0, \"lon\": 3.0},\n",
    "                      width=700,\n",
    "                      height=600)\n",
    "    return fig\n",
    "    \n",
    "display_year1(2007)"
   ]
  },
  {
   "cell_type": "markdown",
   "id": "e77d4b0c",
   "metadata": {},
   "source": [
    "### 3.3 Carte de la suface brûlée par année\n",
    "\n",
    "On calcule dans \"data2\" la surface brûlée par année et par département et on l'affiche dans une carte avec la fonction `px.choropleth_mapbox()`."
   ]
  },
  {
   "cell_type": "code",
   "execution_count": null,
   "id": "6c6bf386",
   "metadata": {},
   "outputs": [],
   "source": [
    "# %load exos/exo_08.py"
   ]
  },
  {
   "cell_type": "markdown",
   "id": "ebe18640",
   "metadata": {},
   "source": [
    "### 3.4 Carte des surfaces incendiées par année\n",
    "\n",
    "**Nuage de points géographiques** \n",
    "\n",
    "Pour obtenir la carte des surfaces incendiées, il faut obtenir la longitude et la latitude des communes où les incendies ont eu lieu.\n",
    "\n",
    "On va utiliser le jeu de données des correspondances des codes Insee : https://public.opendatasoft.com/explore/dataset/correspondance-code-insee-code-postal/information/\n",
    "\n",
    "On utilise uniquement les colonnes \"Code INSEE\", \"Code Département\" et \"geo_point_2d\" dont on extrait la latitude et la longitude de chaque commune avec la méthode `str.extract()` et une expression régulière. Ensuite on joint les 2 dataframes sur la colonne \"Code INSEE\".\n",
    "\n",
    "Enfin, on utilise la fonction `px.scatter_mapbox()` qui permet d'afficher un nuage de points sur une carte."
   ]
  },
  {
   "cell_type": "code",
   "execution_count": null,
   "id": "d9643e08",
   "metadata": {},
   "outputs": [],
   "source": [
    "# load correspondance-code-insee-code-postal.csv\n",
    "insee = pd.read_csv(\"data/correspondance-code-insee-code-postal.csv\",\n",
    "                   sep=\";\",\n",
    "                   usecols=[\"Code INSEE\", \"Code Département\", \"geo_point_2d\"])\n",
    "\n",
    "insee.shape"
   ]
  },
  {
   "cell_type": "code",
   "execution_count": null,
   "id": "f5ad99a1",
   "metadata": {},
   "outputs": [],
   "source": [
    "# %load exos/exo_09.py"
   ]
  },
  {
   "cell_type": "markdown",
   "id": "9ee3ea7b",
   "metadata": {},
   "source": [
    "### 3.5 Carte cummulative du nombre d'années avec incendies\n",
    "\n",
    "On calule le nombre d'années avec incendies par département et on l'affiche dans une carte avec la fonction `px.choropleth_mapbox()`."
   ]
  },
  {
   "cell_type": "code",
   "execution_count": null,
   "id": "e5acddeb",
   "metadata": {},
   "outputs": [],
   "source": [
    "# %load exos/exo_10.py"
   ]
  },
  {
   "cell_type": "markdown",
   "id": "a592a2e1",
   "metadata": {},
   "source": [
    "## 4. Humidité des sols"
   ]
  },
  {
   "cell_type": "markdown",
   "id": "c288f47a",
   "metadata": {},
   "source": [
    "### 4.1 Indice d'humidité des sols\n",
    "\n",
    "**Données mensuelles d'indice d'humidité des sols pour le dispositif CatNat.**\n",
    "\n",
    "> L’indicateur SWI « Uniforme » : Le SWI (de l’anglais Soil Wetness Index ) est un indice d’humidité des sols documenté dans la littérature scientifique. Il représente, sur une profondeur d’environ deux mètres, l’état de la réserve en eau du sol par rapport à la réserve utile (eau disponible pour l’alimentation des plantes).\n",
    "\n",
    "> Dans le modèle SIM, le territoire de France métropolitaine est découpé en mailles géographiques de 8 kilomètres de côté. Il est ainsi couvert par 8 981 mailles. Chacune des mailles ainsi définie est numérotée et recouvre tout ou partie d’une commune. Ce maillage est fixe et n’évolue pas d’une année sur l’autre. (coordonnées Lambert II étendu).\n",
    "\n",
    "Source : https://donneespubliques.meteofrance.fr/?fond=produit&id_produit=301&id_rubrique=40"
   ]
  },
  {
   "cell_type": "markdown",
   "id": "b7b67b1e",
   "metadata": {},
   "source": [
    "On charge l'ensemble des fichiers en convertissant la colonne \"DATE\" et en sélectionnant les années postérieures à 2006."
   ]
  },
  {
   "cell_type": "code",
   "execution_count": null,
   "id": "124b349c",
   "metadata": {},
   "outputs": [],
   "source": [
    "# load SWI\n",
    "dfs = []\n",
    "\n",
    "for filename in glob.glob(\"data/secheresse/*.csv\"):\n",
    "    df = (pd.read_csv(filename, sep=\";\", decimal=\",\")\n",
    "          .assign(DATE=lambda df_: pd.to_datetime(df_.DATE, format=\"%Y%m\"))\n",
    "          .loc[lambda df_: df_.DATE.dt.year >= 2006]\n",
    "          )\n",
    "    dfs.append(df)\n",
    "\n",
    "\n",
    "swi = pd.concat(dfs)\n",
    "swi.shape"
   ]
  },
  {
   "cell_type": "code",
   "execution_count": null,
   "id": "58d1bd21",
   "metadata": {},
   "outputs": [],
   "source": [
    "swi.head()"
   ]
  },
  {
   "cell_type": "markdown",
   "id": "3e9bdc0c",
   "metadata": {},
   "source": [
    "### 4.2 Lambert 93 vers GPS\n",
    "\n",
    "Pour afficher ces informations dans une carte, il faut passer des coordonnées Lambert aux départements. On va tout d'abord passer des coordonnées Lambert aux coordonnées GPS, puis utiliser le fichier de l'Insee déjà utilisé pour passer des coordonnées GPS aux départements.\n",
    "\n",
    "Contrairement à ce qui est indiqué dans la documentation, les coordonnées sont en Lambert93 (merci Julien <i class=\"fa fa-thumbs-up\"></i>). Nous allons pouvoir les convertir en coordonnées GPS avec la librairie **lambert**."
   ]
  },
  {
   "cell_type": "code",
   "execution_count": null,
   "id": "0fe3d7d1",
   "metadata": {},
   "outputs": [],
   "source": [
    "# imports\n",
    "\n",
    "import matplotlib.pyplot as plt\n",
    "\n",
    "from lambert import convertToWGS84Deg, Lambert93"
   ]
  },
  {
   "cell_type": "code",
   "execution_count": null,
   "id": "4af10ee0",
   "metadata": {},
   "outputs": [],
   "source": [
    "# scatterplot des coordonnées Lambert93\n",
    "swi.plot.scatter(x=\"LAMBX\", y=\"LAMBY\", s=5);"
   ]
  },
  {
   "cell_type": "markdown",
   "id": "882cc877",
   "metadata": {},
   "source": [
    "On unicise les lignes pour ne calculer qu'une seule fois les coordonnées GPS car les données portent sur 16 années. Ensuite on calcule un \"LambertPoint\" pour chaque ligne avec la fonction `convertToWGS84Deg()` et on récupère la latitude et la longitude des points. Ensuite on recherche pour chacune des mailles la commune la plus proche géométriquement, via sa longitude et sa latitude, qui fournit ensuite le département"
   ]
  },
  {
   "cell_type": "code",
   "execution_count": null,
   "id": "bd7a0594",
   "metadata": {},
   "outputs": [],
   "source": [
    "# affectation du département correspondant à chaque maille\n",
    "def get_departement(lon, lat):\n",
    "    dist2 = (insee[\"lon\"]-lon)**2 + (insee[\"lat\"]-lat)**2\n",
    "    return insee.loc[dist2.idxmin(), \"Code Département\"]\n",
    "\n",
    "# conversion vers GPS puis obtention du département\n",
    "swi_gps = (swi[[\"NUMERO\", \"LAMBX\", \"LAMBY\"]].drop_duplicates()\n",
    "           .assign(point=lambda df_: df_.apply(lambda x: convertToWGS84Deg(x[1], x[2], Lambert93), axis=1))\n",
    "           .assign(lon=lambda df_: df_.point.apply(lambda x: x.getX()),\n",
    "                   lat=lambda df_: df_.point.apply(lambda x: x.getY()))\n",
    "           .reset_index(drop=True)\n",
    "           .assign(code_departement=lambda df_: df_[\"lon\"].combine(df_[\"lat\"], get_departement))\n",
    "           .sort_values(by=\"NUMERO\")\n",
    "          )\n",
    "\n",
    "swi_gps.head()"
   ]
  },
  {
   "cell_type": "markdown",
   "id": "2dac2787",
   "metadata": {},
   "source": [
    "On obtient bien une carte avec les données issues de SWI, cette fois-ci dans l'échelle GPS."
   ]
  },
  {
   "cell_type": "code",
   "execution_count": null,
   "id": "1c0fc00c",
   "metadata": {},
   "outputs": [],
   "source": [
    "# scatterplot des coordonnées GPS\n",
    "swi_gps.plot.scatter(x=\"lon\", y=\"lat\", s=5);"
   ]
  },
  {
   "cell_type": "markdown",
   "id": "af690f56",
   "metadata": {},
   "source": [
    "### 4.3 Carte de l'humidité des sols\n",
    "\n",
    "On joint le dataset SWI initial avec uniquement les départements obtenus par numéro de maille, on calcule la moyenne de l'indice *SWI* par département et par année (voir la classe `pd.Grouper()` pour utiliser directement la colonne \"DATE\" passée en index dans un `groupby()`) et on l'affiche dans une carte avec la fonction `px.choropleth_mapbox()`."
   ]
  },
  {
   "cell_type": "code",
   "execution_count": null,
   "id": "5d38de31",
   "metadata": {},
   "outputs": [],
   "source": [
    "# %load exos/exo_11.py"
   ]
  },
  {
   "cell_type": "markdown",
   "id": "e7dbbb09",
   "metadata": {},
   "source": [
    "### 4.4 Calcul d'éventuelles corrélations entre les incendies et l'humidité des sols\n",
    "\n",
    "Todo..."
   ]
  },
  {
   "cell_type": "markdown",
   "id": "a0041086",
   "metadata": {},
   "source": [
    "#### Article récent sur le sujet\n",
    "\n",
    "*Will Norris*, **Using Panel and hvPlot to Visualize Decades of Wildfires**, *Towards Data Science*, September 2022.\n",
    "\n",
    "https://towardsdatascience.com/using-panel-and-hvplot-to-visualize-decades-of-wildfires-2ac8d6f5db25\n",
    "\n",
    "**Rappel**\n",
    "\n",
    "- Librairies de dashboarding avec Python : Dash, Panel, Streamlit et Voilà.\n",
    "\n",
    "- Librairies de visualisation avec Python : https://pyviz.org/index.html"
   ]
  }
 ],
 "metadata": {
  "kernelspec": {
   "display_name": "Python 3 (ipykernel)",
   "language": "python",
   "name": "python3"
  },
  "language_info": {
   "codemirror_mode": {
    "name": "ipython",
    "version": 3
   },
   "file_extension": ".py",
   "mimetype": "text/x-python",
   "name": "python",
   "nbconvert_exporter": "python",
   "pygments_lexer": "ipython3",
   "version": "3.9.12"
  }
 },
 "nbformat": 4,
 "nbformat_minor": 5
}
